{
 "cells": [
  {
   "cell_type": "code",
   "execution_count": 1,
   "id": "778b8142",
   "metadata": {},
   "outputs": [
    {
     "name": "stdout",
     "output_type": "stream",
     "text": [
      "What would you like to do?\n",
      "1. Add task\n",
      "2. Remove task\n",
      "3. Modify task\n",
      "4. Display tasks\n",
      "5. Sort tasks\n",
      "6. Mark as Completed\n",
      "7. Quit\n"
     ]
    },
    {
     "name": "stdin",
     "output_type": "stream",
     "text": [
      "Enter your choice (1-7):  1\n",
      "Enter task description:  learn to code\n",
      "Enter due date (YYYY-MM-DD):  2023-06-30\n",
      "Enter priority level (1-5):  1\n"
     ]
    },
    {
     "name": "stdout",
     "output_type": "stream",
     "text": [
      "Task added.\n",
      "What would you like to do?\n",
      "1. Add task\n",
      "2. Remove task\n",
      "3. Modify task\n",
      "4. Display tasks\n",
      "5. Sort tasks\n",
      "6. Mark as Completed\n",
      "7. Quit\n"
     ]
    },
    {
     "name": "stdin",
     "output_type": "stream",
     "text": [
      "Enter your choice (1-7):  4\n"
     ]
    },
    {
     "name": "stdout",
     "output_type": "stream",
     "text": [
      "Task list:\n",
      "Task ID: 1\n",
      "Description: learn to code\n",
      "Due date: 2023-06-30\n",
      "Priority level: 1\n",
      "Completed: False\n",
      "\n",
      "What would you like to do?\n",
      "1. Add task\n",
      "2. Remove task\n",
      "3. Modify task\n",
      "4. Display tasks\n",
      "5. Sort tasks\n",
      "6. Mark as Completed\n",
      "7. Quit\n"
     ]
    },
    {
     "name": "stdin",
     "output_type": "stream",
     "text": [
      "Enter your choice (1-7):  3\n",
      "Enter task ID to modify:  1\n",
      "Current description: learn to code. Enter new description (or leave blank to keep current):  Learn Python\n",
      "Current due date: 2023-06-30. Enter new due date (or leave blank to keep current):  \n",
      "Current priority: 1. Enter new priority level (or leave blank to keep current):  \n"
     ]
    },
    {
     "name": "stdout",
     "output_type": "stream",
     "text": [
      "Task modified.\n",
      "What would you like to do?\n",
      "1. Add task\n",
      "2. Remove task\n",
      "3. Modify task\n",
      "4. Display tasks\n",
      "5. Sort tasks\n",
      "6. Mark as Completed\n",
      "7. Quit\n"
     ]
    },
    {
     "name": "stdin",
     "output_type": "stream",
     "text": [
      "Enter your choice (1-7):  4\n"
     ]
    },
    {
     "name": "stdout",
     "output_type": "stream",
     "text": [
      "Task list:\n",
      "Task ID: 1\n",
      "Description: Learn Python\n",
      "Due date: 2023-06-30\n",
      "Priority level: 1\n",
      "Completed: False\n",
      "\n",
      "What would you like to do?\n",
      "1. Add task\n",
      "2. Remove task\n",
      "3. Modify task\n",
      "4. Display tasks\n",
      "5. Sort tasks\n",
      "6. Mark as Completed\n",
      "7. Quit\n"
     ]
    },
    {
     "name": "stdin",
     "output_type": "stream",
     "text": [
      "Enter your choice (1-7):  6\n",
      "Enter task ID to mark as completed:  1\n"
     ]
    },
    {
     "name": "stdout",
     "output_type": "stream",
     "text": [
      "Task marked as completed.\n",
      "What would you like to do?\n",
      "1. Add task\n",
      "2. Remove task\n",
      "3. Modify task\n",
      "4. Display tasks\n",
      "5. Sort tasks\n",
      "6. Mark as Completed\n",
      "7. Quit\n"
     ]
    },
    {
     "name": "stdin",
     "output_type": "stream",
     "text": [
      "Enter your choice (1-7):  4\n"
     ]
    },
    {
     "name": "stdout",
     "output_type": "stream",
     "text": [
      "Task list:\n",
      "Task ID: 1\n",
      "Description: Learn Python\n",
      "Due date: 2023-06-30\n",
      "Priority level: 1\n",
      "Completed: True\n",
      "\n",
      "What would you like to do?\n",
      "1. Add task\n",
      "2. Remove task\n",
      "3. Modify task\n",
      "4. Display tasks\n",
      "5. Sort tasks\n",
      "6. Mark as Completed\n",
      "7. Quit\n"
     ]
    },
    {
     "name": "stdin",
     "output_type": "stream",
     "text": [
      "Enter your choice (1-7):  7\n"
     ]
    },
    {
     "name": "stdout",
     "output_type": "stream",
     "text": [
      "Goodbye!\n"
     ]
    }
   ],
   "source": [
    "# To Do List\n",
    "# create an empty dictionary to store the tasks\n",
    "tasks = {}\n",
    "\n",
    "# display the menu options to the user\n",
    "while True:\n",
    "    print(\"What would you like to do?\")\n",
    "    print(\"1. Add task\")\n",
    "    print(\"2. Remove task\")\n",
    "    print(\"3. Modify task\")\n",
    "    print(\"4. Display tasks\")\n",
    "    print(\"5. Sort tasks\")\n",
    "    print(\"6. Mark as Completed\")\n",
    "    print(\"7. Quit\")\n",
    "    choice = input(\"Enter your choice (1-7): \")\n",
    "\n",
    "    # add task\n",
    "    if choice == \"1\":\n",
    "        task = {}\n",
    "        task['description'] = input(\"Enter task description: \")\n",
    "        task['due_date'] = input(\"Enter due date (YYYY-MM-DD): \")\n",
    "        task['priority'] = input(\"Enter priority level (1-5): \")\n",
    "        task['completed'] = False\n",
    "        tasks[len(tasks)+1] = task\n",
    "        print(\"Task added.\")\n",
    "\n",
    "    # remove task\n",
    "    elif choice == \"2\":\n",
    "        task_id = int(input(\"Enter task ID to remove: \"))\n",
    "        if task_id in tasks:\n",
    "            del tasks[task_id]\n",
    "            print(\"Task removed.\")\n",
    "        else:\n",
    "            print(\"Task not found.\")\n",
    "\n",
    "    # modify task\n",
    "    elif choice == \"3\":\n",
    "        task_id = int(input(\"Enter task ID to modify: \"))\n",
    "        if task_id in tasks:\n",
    "            task = tasks[task_id]\n",
    "            new_description = input(f\"Current description: {task['description']}. Enter new description (or leave blank to keep current): \")\n",
    "            if new_description != \"\":\n",
    "                task['description'] = new_description\n",
    "            new_due_date = input(f\"Current due date: {task['due_date']}. Enter new due date (or leave blank to keep current): \")\n",
    "            if new_due_date != \"\":\n",
    "                task['due_date'] = new_due_date\n",
    "            new_priority = input(f\"Current priority: {task['priority']}. Enter new priority level (or leave blank to keep current): \")\n",
    "            if new_priority != \"\":\n",
    "                task['priority'] = new_priority\n",
    "            print(\"Task modified.\")\n",
    "        else:\n",
    "            print(\"Task not found.\")\n",
    "\n",
    "    # display tasks\n",
    "    elif choice == \"4\":\n",
    "        if len(tasks) == 0:\n",
    "            print(\"The task list is empty.\")\n",
    "        else:\n",
    "            print(\"Task list:\")\n",
    "            for task_id, task in tasks.items():\n",
    "                print(f\"Task ID: {task_id}\")\n",
    "                print(f\"Description: {task['description']}\")\n",
    "                print(f\"Due date: {task['due_date']}\")\n",
    "                print(f\"Priority level: {task['priority']}\")\n",
    "                print(f\"Completed: {task['completed']}\")\n",
    "                print()\n",
    "\n",
    "    # sort tasks\n",
    "    elif choice == \"5\":\n",
    "        sort_choice = input(\"Sort by (1) due date or (2) priority level? \")\n",
    "        if sort_choice == \"1\":\n",
    "            sorted_tasks = sorted(tasks.values(), key=lambda x: x['due_date'])\n",
    "        elif sort_choice == \"2\":\n",
    "            sorted_tasks = sorted(tasks.values(), key=lambda x: x['priority'], reverse=True)\n",
    "        else:\n",
    "            print(\"Invalid choice. Please try again.\")\n",
    "            continue\n",
    "        print(\"Sorted tasks:\")\n",
    "        for task in sorted_tasks:\n",
    "            print(f\"Description: {task['description']}\")\n",
    "            print(f\"Due date: {task['due_date']}\")\n",
    "            print(f\"Priority level: {task['priority']}\")\n",
    "    # mark task as completed\n",
    "    elif choice == \"6\":\n",
    "        task_id = int(input(\"Enter task ID to mark as completed: \"))\n",
    "        if task_id in tasks:\n",
    "            task = tasks[task_id]\n",
    "            task['completed'] = True\n",
    "            print(\"Task marked as completed.\")\n",
    "        else:\n",
    "            print(\"Task not found.\")\n",
    "\n",
    "    # quit program\n",
    "    elif choice == \"7\":\n",
    "        print(\"Goodbye!\")\n",
    "        break\n",
    "\n",
    "    # invalid choice\n",
    "    else:\n",
    "        print(\"Invalid choice. Please try again.\")"
   ]
  },
  {
   "cell_type": "code",
   "execution_count": null,
   "id": "63228b07",
   "metadata": {},
   "outputs": [],
   "source": []
  }
 ],
 "metadata": {
  "kernelspec": {
   "display_name": "Python 3 (ipykernel)",
   "language": "python",
   "name": "python3"
  },
  "language_info": {
   "codemirror_mode": {
    "name": "ipython",
    "version": 3
   },
   "file_extension": ".py",
   "mimetype": "text/x-python",
   "name": "python",
   "nbconvert_exporter": "python",
   "pygments_lexer": "ipython3",
   "version": "3.11.3"
  }
 },
 "nbformat": 4,
 "nbformat_minor": 5
}
